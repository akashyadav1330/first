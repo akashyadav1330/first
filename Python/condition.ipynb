{
 "cells": [
  {
   "cell_type": "code",
   "execution_count": 3,
   "id": "19ab5f23",
   "metadata": {},
   "outputs": [],
   "source": [
    "def num(x,y):     \n",
    "      return x*y\n"
   ]
  },
  {
   "cell_type": "code",
   "execution_count": null,
   "id": "b6030910",
   "metadata": {},
   "outputs": [],
   "source": [
    "def class1(name,branch='CSE'):\n",
    "    print(f\"my name is {name} and my branch is {branch}\")\n",
    "\n",
    "class1(name='Prashansa', branch = 'Civil')"
   ]
  },
  {
   "cell_type": "code",
   "execution_count": 13,
   "id": "3d78f548",
   "metadata": {},
   "outputs": [
    {
     "name": "stdout",
     "output_type": "stream",
     "text": [
      "8\n",
      "12\n"
     ]
    }
   ],
   "source": [
    "def add(x,y):\n",
    "    print(x+y)\n",
    "    print(x*y)\n",
    "    \n",
    "add(2,6)"
   ]
  },
  {
   "cell_type": "code",
   "execution_count": 12,
   "id": "585ba3e9",
   "metadata": {},
   "outputs": [
    {
     "name": "stdout",
     "output_type": "stream",
     "text": [
      "7\n"
     ]
    }
   ],
   "source": [
    "# def function_name(arguements):       # definition\n",
    "    # block of code\n",
    "\n",
    "# function_name(parameters)            # function calling \n",
    "\n",
    "def add():\n",
    "    x =5\n",
    "    y =2\n",
    "    print(x+y)\n",
    "\n",
    "add()"
   ]
  },
  {
   "cell_type": "code",
   "execution_count": 11,
   "id": "984a4fbf",
   "metadata": {},
   "outputs": [
    {
     "name": "stdout",
     "output_type": "stream",
     "text": [
      "0\n",
      "1\n",
      "2\n",
      "3\n",
      "4\n",
      "6\n",
      "7\n",
      "8\n",
      "9\n",
      "10\n",
      "11\n",
      "12\n",
      "13\n",
      "14\n",
      "15\n",
      "16\n",
      "17\n",
      "18\n",
      "19\n",
      "0\n",
      "1\n",
      "2\n",
      "3\n",
      "4\n"
     ]
    }
   ],
   "source": [
    "for x in range(0,20):\n",
    "    if x == 5:\n",
    "        continue\n",
    "    print(x)\n",
    "\n",
    "for x in range(0,20):\n",
    "    if x == 5:\n",
    "        break\n",
    "    print(x)"
   ]
  },
  {
   "cell_type": "code",
   "execution_count": 10,
   "id": "540882cb",
   "metadata": {},
   "outputs": [
    {
     "name": "stdout",
     "output_type": "stream",
     "text": [
      "5\n",
      "6\n",
      "7\n",
      "8\n",
      "9\n"
     ]
    }
   ],
   "source": [
    "x= 5\n",
    "while x<10:\n",
    "    print(x)\n",
    "    x+=1"
   ]
  },
  {
   "cell_type": "code",
   "execution_count": 9,
   "id": "53b9f2fe",
   "metadata": {},
   "outputs": [
    {
     "name": "stdout",
     "output_type": "stream",
     "text": [
      "name\n",
      "age\n",
      "phone\n",
      "('name', ['ritik', 'rohit'])\n",
      "('age', 34)\n",
      "('phone', 7505482944)\n"
     ]
    }
   ],
   "source": [
    "dct ={'name':['ritik', 'rohit'] , 'age': 34, 'phone': 7505482944}\n",
    "for x in dct.keys():\n",
    "    print(x)\n",
    "\n",
    "for x in dct.items():\n",
    "    print(x)"
   ]
  },
  {
   "cell_type": "code",
   "execution_count": 6,
   "id": "ad265457",
   "metadata": {},
   "outputs": [
    {
     "name": "stdout",
     "output_type": "stream",
     "text": [
      "2\n",
      "5\n",
      "8\n",
      "11\n",
      "14\n",
      "17\n"
     ]
    }
   ],
   "source": [
    "for i in range(2,20,3):\n",
    "    print(i)"
   ]
  },
  {
   "cell_type": "code",
   "execution_count": 5,
   "id": "595097b1",
   "metadata": {},
   "outputs": [
    {
     "name": "stdout",
     "output_type": "stream",
     "text": [
      "1\n",
      "2\n",
      "3\n",
      "4\n",
      "5\n",
      "6\n",
      "7\n",
      "8\n",
      "9\n",
      "10\n",
      "11\n",
      "12\n",
      "13\n",
      "14\n",
      "15\n",
      "16\n",
      "17\n",
      "18\n",
      "19\n"
     ]
    }
   ],
   "source": [
    "for x in range(1,20):\n",
    "    print(x)"
   ]
  },
  {
   "cell_type": "code",
   "execution_count": 4,
   "id": "f66e2a05",
   "metadata": {},
   "outputs": [
    {
     "name": "stdout",
     "output_type": "stream",
     "text": [
      "0\n",
      "1\n",
      "2\n",
      "3\n",
      "4\n",
      "5\n",
      "6\n",
      "7\n",
      "8\n",
      "9\n",
      "10\n",
      "11\n",
      "12\n",
      "13\n",
      "14\n",
      "15\n",
      "16\n",
      "17\n",
      "18\n",
      "19\n"
     ]
    }
   ],
   "source": [
    "# lst = [1,2,3,4,5]\n",
    "# for x in lst:\n",
    "#     print(x)\n",
    "\n",
    "for x in range(20):\n",
    "    print(x)"
   ]
  },
  {
   "cell_type": "code",
   "execution_count": 3,
   "id": "d8e70919",
   "metadata": {},
   "outputs": [
    {
     "name": "stdout",
     "output_type": "stream",
     "text": [
      "x is smaller than 10\n"
     ]
    }
   ],
   "source": [
    "x= 5\n",
    "if x>10:\n",
    "    print(\"x is greater than 10\")\n",
    "else:\n",
    "    print(\"x is smaller than 10\")"
   ]
  },
  {
   "cell_type": "code",
   "execution_count": 2,
   "id": "95f8c58e",
   "metadata": {},
   "outputs": [
    {
     "name": "stdout",
     "output_type": "stream",
     "text": [
      "A grade\n"
     ]
    }
   ],
   "source": [
    "grade = int(input(\"enter the grade:\"))\n",
    "if grade >= 90:\n",
    "    print(\"A grade\")\n",
    "elif grade>=80 and grade < 90:\n",
    "    print(\"B grade\")\n",
    "elif grade >= 70 and grade < 80:\n",
    "    print(\"C grade\")\n",
    "elif grade >= 60 and grade < 70:\n",
    "    print(\"D grade\")\n",
    "else:\n",
    "    print(\"fail\")"
   ]
  },
  {
   "cell_type": "code",
   "execution_count": 3,
   "id": "e451bb76",
   "metadata": {},
   "outputs": [
    {
     "name": "stdout",
     "output_type": "stream",
     "text": [
      "akash\n",
      "22\n"
     ]
    }
   ],
   "source": [
    "class first:\n",
    "    def info(self):\n",
    "        name = \"akash\"\n",
    "        age = 22\n",
    "        print(name)\n",
    "        print(age)\n",
    "st_obj=first()\n",
    "st_obj.info()\n"
   ]
  },
  {
   "cell_type": "code",
   "execution_count": 13,
   "id": "14062681",
   "metadata": {},
   "outputs": [
    {
     "data": {
      "text/plain": [
       "'aaksh'"
      ]
     },
     "execution_count": 13,
     "metadata": {},
     "output_type": "execute_result"
    }
   ],
   "source": [
    "class A:\n",
    "    name = \"aaksh\"\n",
    "class B(A):\n",
    "    age = 22\n",
    "obj = B()\n",
    "obj.name"
   ]
  },
  {
   "cell_type": "code",
   "execution_count": 17,
   "id": "f8dc020d",
   "metadata": {},
   "outputs": [
    {
     "name": "stdout",
     "output_type": "stream",
     "text": [
      "34\n"
     ]
    }
   ],
   "source": [
    "class A:\n",
    "    def info(self):\n",
    "        age = 22\n",
    "        print(age)\n",
    "class B(A):\n",
    "    def info(self):\n",
    "        age = 34\n",
    "        print(age)\n",
    "    obj=B()\n",
    "    obj.info()"
   ]
  },
  {
   "cell_type": "code",
   "execution_count": null,
   "id": "77d7dcfd",
   "metadata": {},
   "outputs": [],
   "source": [
    "class College:\n",
    "    def __init__(self,name,salary ,department):\n",
    "        self.name=name\n",
    "        self.__salary=salary\n",
    "        self.department=department\n",
    "\n",
    "    def info(self):\n",
    "        print(self.name)\n",
    "        \n",
    "\n",
    "class Account(College):\n",
    "    def display(self):\n",
    "\n",
    "        print(self.department)\n",
    "\n",
    "obj = College(name=\"prashansa\" , salary=45000, department=\"tech\")\n",
    "obj1= Account(name=\"neha\", salary= 40000 , department=\"marketing\")\n",
    "obj.info()\n",
    "obj1.display()\n",
    "obj.College_salary\n"
   ]
  },
  {
   "cell_type": "code",
   "execution_count": 5,
   "id": "5982e942",
   "metadata": {},
   "outputs": [
    {
     "name": "stdout",
     "output_type": "stream",
     "text": [
      "akash\n",
      "marketing\n"
     ]
    }
   ],
   "source": [
    "class College:\n",
    "    def __init__(self, name, salary, department):\n",
    "        self.name = name\n",
    "        self.__salary = salary\n",
    "        self.department = department\n",
    "\n",
    "    def info(self):\n",
    "        print(self.name)\n",
    "\n",
    "class Account(College):\n",
    "    def display(self):\n",
    "        print(self.department)\n",
    "\n",
    "obj = College( name=\"akash\", salary=30000, department=\"Account\")\n",
    "obj1 = Account(name=\"neha\", salary=40000, department=\"marketing\")\n",
    "obj.info()\n",
    "obj1.display()\n",
    "\n",
    "\n"
   ]
  },
  {
   "cell_type": "code",
   "execution_count": 38,
   "id": "958c5b30",
   "metadata": {},
   "outputs": [
    {
     "name": "stdout",
     "output_type": "stream",
     "text": [
      "the correct answer is\n",
      "3.3333333333333335\n",
      "see you next time\n",
      "Thanku you\n"
     ]
    }
   ],
   "source": [
    "try:\n",
    "    value = int(input(\"Enter the valid value\"))\n",
    "    result=10/value\n",
    "    \n",
    "except Exception as e :\n",
    "    print(\"invalid value\")\n",
    "\n",
    "else:\n",
    "    print(\"the correct answer is\")\n",
    "    print(result)\n",
    "\n",
    "finally:\n",
    "    print(\"see you next time\")\n",
    "    print(\"Thanks you\")"
   ]
  },
  {
   "cell_type": "code",
   "execution_count": 39,
   "id": "31b6f7fc",
   "metadata": {},
   "outputs": [
    {
     "name": "stdout",
     "output_type": "stream",
     "text": [
      "6\n"
     ]
    }
   ],
   "source": [
    "square = lambda x : x*2 \n",
    "print(square(3))\n"
   ]
  },
  {
   "cell_type": "code",
   "execution_count": 52,
   "id": "e7765781",
   "metadata": {},
   "outputs": [
    {
     "name": "stdout",
     "output_type": "stream",
     "text": [
      "8\n"
     ]
    }
   ],
   "source": [
    "add=lambda x,y: x+y\n",
    "\n",
    "print(add(3,5))"
   ]
  }
 ],
 "metadata": {
  "kernelspec": {
   "display_name": "Python 3",
   "language": "python",
   "name": "python3"
  },
  "language_info": {
   "codemirror_mode": {
    "name": "ipython",
    "version": 3
   },
   "file_extension": ".py",
   "mimetype": "text/x-python",
   "name": "python",
   "nbconvert_exporter": "python",
   "pygments_lexer": "ipython3",
   "version": "3.11.5"
  }
 },
 "nbformat": 4,
 "nbformat_minor": 5
}
